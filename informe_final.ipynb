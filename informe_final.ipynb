{
 "cells": [
  {
   "cell_type": "markdown",
   "id": "c59136c9",
   "metadata": {},
   "source": [
    "# CC5205-3 · Minería de Datos\n",
    "## Hito 1 · Semestre 2025-1\n",
    "\n",
    "### Integrantes\n",
    "- Sofía Carmona F.\n",
    "- Tomás Ubilla Zavala  \n",
    "- Loonette Vilelgas B.\n",
    "- Diego Rojas Wasaff  \n",
    "- Nahuel Won\n",
    "### Equipo Docente\n",
    "- Profesor: Valentín Barriere  \n",
    "- Auxiliar: Roberto Rivera C.\n",
    "\n",
    "---\n"
   ]
  },
  {
   "cell_type": "markdown",
   "id": "a1d25c5c",
   "metadata": {},
   "source": [
    "## Introducción\n",
    "\n",
    "---"
   ]
  },
  {
   "cell_type": "markdown",
   "id": "edef1a8d",
   "metadata": {},
   "source": [
    "## Exploración de datos\n",
    "\n",
    "---"
   ]
  },
  {
   "cell_type": "markdown",
   "id": "59804daf",
   "metadata": {},
   "source": [
    "## Propuesta experimental\n",
    "\n",
    "---"
   ]
  },
  {
   "cell_type": "markdown",
   "id": "df347515",
   "metadata": {},
   "source": [
    "## Experimento preliminar\n",
    "\n",
    "---"
   ]
  },
  {
   "cell_type": "markdown",
   "id": "0a9adf53",
   "metadata": {},
   "source": [
    "## Anexos\n",
    "\n",
    "---"
   ]
  }
 ],
 "metadata": {
  "language_info": {
   "name": "python"
  }
 },
 "nbformat": 4,
 "nbformat_minor": 5
}
